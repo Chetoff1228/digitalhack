{
  "metadata": {
    "language_info": {
      "codemirror_mode": {
        "name": "ipython",
        "version": 3
      },
      "file_extension": ".py",
      "mimetype": "text/x-python",
      "name": "python",
      "nbconvert_exporter": "python",
      "pygments_lexer": "ipython3",
      "version": "3.7.1-final"
    },
    "orig_nbformat": 2,
    "kernelspec": {
      "name": "python3",
      "display_name": "Python 3",
      "language": "python"
    },
    "colab": {
      "provenance": []
    }
  },
  "nbformat": 4,
  "nbformat_minor": 0,
  "cells": [
    {
      "source": [
        "# Multilingual-PDF-OCR-on-Google-Colab by Akella Niranjan\n",
        "Initially install all the necessary packages on to the Google Colab instance. The below algorithm is used to convert scanned 'Hindi' documents. "
      ],
      "cell_type": "markdown",
      "metadata": {
        "id": "riueS1w2a_rL"
      }
    },
    {
      "cell_type": "code",
      "execution_count": null,
      "metadata": {
        "colab": {
          "base_uri": "https://localhost:8080/"
        },
        "id": "r0OpW9h4a_rQ",
        "outputId": "4858da31-5bea-4c81-d0ce-c92a94edd05f"
      },
      "outputs": [
        {
          "output_type": "stream",
          "name": "stdout",
          "text": [
            "Looking in indexes: https://pypi.org/simple, https://us-python.pkg.dev/colab-wheels/public/simple/\n",
            "Collecting pytesseract\n",
            "  Downloading pytesseract-0.3.10-py3-none-any.whl (14 kB)\n",
            "Requirement already satisfied: packaging>=21.3 in /usr/local/lib/python3.10/dist-packages (from pytesseract) (23.1)\n",
            "Requirement already satisfied: Pillow>=8.0.0 in /usr/local/lib/python3.10/dist-packages (from pytesseract) (8.4.0)\n",
            "Installing collected packages: pytesseract\n",
            "Successfully installed pytesseract-0.3.10\n",
            "Reading package lists... Done\n",
            "Building dependency tree       \n",
            "Reading state information... Done\n",
            "The following additional packages will be installed:\n",
            "  tesseract-ocr-eng tesseract-ocr-osd\n",
            "The following NEW packages will be installed:\n",
            "  tesseract-ocr tesseract-ocr-eng tesseract-ocr-osd\n",
            "0 upgraded, 3 newly installed, 0 to remove and 24 not upgraded.\n",
            "Need to get 4,850 kB of archives.\n",
            "After this operation, 16.3 MB of additional disk space will be used.\n",
            "Get:1 http://archive.ubuntu.com/ubuntu focal/universe amd64 tesseract-ocr-eng all 1:4.00~git30-7274cfa-1 [1,598 kB]\n",
            "Get:2 http://archive.ubuntu.com/ubuntu focal/universe amd64 tesseract-ocr-osd all 1:4.00~git30-7274cfa-1 [2,990 kB]\n",
            "Get:3 http://archive.ubuntu.com/ubuntu focal/universe amd64 tesseract-ocr amd64 4.1.1-2build2 [262 kB]\n",
            "Fetched 4,850 kB in 1s (5,250 kB/s)\n",
            "debconf: unable to initialize frontend: Dialog\n",
            "debconf: (No usable dialog-like program is installed, so the dialog based frontend cannot be used. at /usr/share/perl5/Debconf/FrontEnd/Dialog.pm line 76, <> line 3.)\n",
            "debconf: falling back to frontend: Readline\n",
            "debconf: unable to initialize frontend: Readline\n",
            "debconf: (This frontend requires a controlling tty.)\n",
            "debconf: falling back to frontend: Teletype\n",
            "dpkg-preconfigure: unable to re-open stdin: \n",
            "Selecting previously unselected package tesseract-ocr-eng.\n",
            "(Reading database ... 122531 files and directories currently installed.)\n",
            "Preparing to unpack .../tesseract-ocr-eng_1%3a4.00~git30-7274cfa-1_all.deb ...\n",
            "Unpacking tesseract-ocr-eng (1:4.00~git30-7274cfa-1) ...\n",
            "Selecting previously unselected package tesseract-ocr-osd.\n",
            "Preparing to unpack .../tesseract-ocr-osd_1%3a4.00~git30-7274cfa-1_all.deb ...\n",
            "Unpacking tesseract-ocr-osd (1:4.00~git30-7274cfa-1) ...\n",
            "Selecting previously unselected package tesseract-ocr.\n",
            "Preparing to unpack .../tesseract-ocr_4.1.1-2build2_amd64.deb ...\n",
            "Unpacking tesseract-ocr (4.1.1-2build2) ...\n",
            "Setting up tesseract-ocr-eng (1:4.00~git30-7274cfa-1) ...\n",
            "Setting up tesseract-ocr-osd (1:4.00~git30-7274cfa-1) ...\n",
            "Setting up tesseract-ocr (4.1.1-2build2) ...\n",
            "Processing triggers for man-db (2.9.1-1) ...\n",
            "Get:1 https://cloud.r-project.org/bin/linux/ubuntu focal-cran40/ InRelease [3,622 B]\n",
            "Hit:2 https://developer.download.nvidia.com/compute/cuda/repos/ubuntu2004/x86_64  InRelease\n",
            "Hit:3 http://archive.ubuntu.com/ubuntu focal InRelease\n",
            "Get:4 http://security.ubuntu.com/ubuntu focal-security InRelease [114 kB]\n",
            "Hit:5 http://ppa.launchpad.net/c2d4u.team/c2d4u4.0+/ubuntu focal InRelease\n",
            "Get:6 http://archive.ubuntu.com/ubuntu focal-updates InRelease [114 kB]\n",
            "Hit:7 http://ppa.launchpad.net/cran/libgit2/ubuntu focal InRelease\n",
            "Hit:8 http://ppa.launchpad.net/deadsnakes/ppa/ubuntu focal InRelease\n",
            "Get:9 http://archive.ubuntu.com/ubuntu focal-backports InRelease [108 kB]\n",
            "Hit:10 http://ppa.launchpad.net/graphics-drivers/ppa/ubuntu focal InRelease\n",
            "Get:11 http://security.ubuntu.com/ubuntu focal-security/restricted amd64 Packages [2,240 kB]\n",
            "Get:12 http://archive.ubuntu.com/ubuntu focal-updates/universe amd64 Packages [1,344 kB]\n",
            "Hit:13 http://ppa.launchpad.net/ubuntugis/ppa/ubuntu focal InRelease\n",
            "Get:14 http://archive.ubuntu.com/ubuntu focal-updates/main amd64 Packages [3,175 kB]\n",
            "Get:15 http://security.ubuntu.com/ubuntu focal-security/main amd64 Packages [2,699 kB]\n",
            "Get:16 http://security.ubuntu.com/ubuntu focal-security/universe amd64 Packages [1,049 kB]\n",
            "Fetched 10.8 MB in 2s (7,025 kB/s)\n",
            "Reading package lists... Done\n",
            "Looking in indexes: https://pypi.org/simple, https://us-python.pkg.dev/colab-wheels/public/simple/\n",
            "Collecting pdf2image\n",
            "  Downloading pdf2image-1.16.3-py3-none-any.whl (11 kB)\n",
            "Requirement already satisfied: pillow in /usr/local/lib/python3.10/dist-packages (from pdf2image) (8.4.0)\n",
            "Installing collected packages: pdf2image\n",
            "Successfully installed pdf2image-1.16.3\n",
            "Reading package lists... Done\n",
            "Building dependency tree       \n",
            "Reading state information... Done\n",
            "The following NEW packages will be installed:\n",
            "  poppler-utils\n",
            "0 upgraded, 1 newly installed, 0 to remove and 27 not upgraded.\n",
            "Need to get 174 kB of archives.\n",
            "After this operation, 754 kB of additional disk space will be used.\n",
            "Get:1 http://archive.ubuntu.com/ubuntu focal-updates/main amd64 poppler-utils amd64 0.86.1-0ubuntu1.1 [174 kB]\n",
            "Fetched 174 kB in 0s (1,686 kB/s)\n",
            "Selecting previously unselected package poppler-utils.\n",
            "(Reading database ... 122578 files and directories currently installed.)\n",
            "Preparing to unpack .../poppler-utils_0.86.1-0ubuntu1.1_amd64.deb ...\n",
            "Unpacking poppler-utils (0.86.1-0ubuntu1.1) ...\n",
            "Setting up poppler-utils (0.86.1-0ubuntu1.1) ...\n",
            "Processing triggers for man-db (2.9.1-1) ...\n",
            "Reading package lists... Done\n",
            "Building dependency tree       \n",
            "Reading state information... Done\n",
            "The following NEW packages will be installed:\n",
            "  tesseract-ocr-hin\n",
            "0 upgraded, 1 newly installed, 0 to remove and 27 not upgraded.\n",
            "Need to get 913 kB of archives.\n",
            "After this operation, 1,138 kB of additional disk space will be used.\n",
            "Get:1 http://archive.ubuntu.com/ubuntu focal/universe amd64 tesseract-ocr-hin all 1:4.00~git30-7274cfa-1 [913 kB]\n",
            "Fetched 913 kB in 0s (8,377 kB/s)\n",
            "debconf: unable to initialize frontend: Dialog\n",
            "debconf: (No usable dialog-like program is installed, so the dialog based frontend cannot be used. at /usr/share/perl5/Debconf/FrontEnd/Dialog.pm line 76, <> line 1.)\n",
            "debconf: falling back to frontend: Readline\n",
            "debconf: unable to initialize frontend: Readline\n",
            "debconf: (This frontend requires a controlling tty.)\n",
            "debconf: falling back to frontend: Teletype\n",
            "dpkg-preconfigure: unable to re-open stdin: \n",
            "Selecting previously unselected package tesseract-ocr-hin.\n",
            "(Reading database ... 122608 files and directories currently installed.)\n",
            "Preparing to unpack .../tesseract-ocr-hin_1%3a4.00~git30-7274cfa-1_all.deb ...\n",
            "Unpacking tesseract-ocr-hin (1:4.00~git30-7274cfa-1) ...\n",
            "Setting up tesseract-ocr-hin (1:4.00~git30-7274cfa-1) ...\n"
          ]
        }
      ],
      "source": [
        "#Installing packages N\n",
        "!pip install pytesseract\n",
        "!sudo apt install tesseract-ocr\n",
        "!apt-get update\n",
        "!pip install pdf2image\n",
        "!apt-get install poppler-utils\n",
        "!sudo apt-get install tesseract-ocr-hin"
      ]
    },
    {
      "source": [
        "### Importing all the necessary libraries such as OCR Engine, System libraries for file handling, PDF file handing libraries and Google Colab file handing libraries."
      ],
      "cell_type": "markdown",
      "metadata": {
        "id": "LrZDomr1a_rS"
      }
    },
    {
      "cell_type": "code",
      "execution_count": null,
      "metadata": {
        "id": "q8t2wMVta_rT"
      },
      "outputs": [],
      "source": [
        "#Importing libraries a\n",
        "import pytesseract\n",
        "import os, glob, sys\n",
        "from pdf2image import convert_from_path, convert_from_bytes\n",
        "from google.colab import files"
      ]
    },
    {
      "source": [
        "#### Clearing all the files in the directory"
      ],
      "cell_type": "markdown",
      "metadata": {
        "id": "q1VMkp_5a_rU"
      }
    },
    {
      "cell_type": "code",
      "source": [
        "!pip install PyPDF2"
      ],
      "metadata": {
        "colab": {
          "base_uri": "https://localhost:8080/"
        },
        "id": "JkM5e1Cxge8v",
        "outputId": "f3b35c1f-fcf4-41f3-fdc7-e10e3b4ad82f"
      },
      "execution_count": null,
      "outputs": [
        {
          "output_type": "stream",
          "name": "stdout",
          "text": [
            "Looking in indexes: https://pypi.org/simple, https://us-python.pkg.dev/colab-wheels/public/simple/\n",
            "Collecting PyPDF2\n",
            "  Downloading pypdf2-3.0.1-py3-none-any.whl (232 kB)\n",
            "\u001b[2K     \u001b[90m━━━━━━━━━━━━━━━━━━━━━━━━━━━━━━━━━━━━━━\u001b[0m \u001b[32m232.6/232.6 kB\u001b[0m \u001b[31m16.7 MB/s\u001b[0m eta \u001b[36m0:00:00\u001b[0m\n",
            "\u001b[?25hInstalling collected packages: PyPDF2\n",
            "Successfully installed PyPDF2-3.0.1\n"
          ]
        }
      ]
    },
    {
      "cell_type": "code",
      "source": [
        "import PyPDF2\n"
      ],
      "metadata": {
        "id": "odpbl7wega-X"
      },
      "execution_count": null,
      "outputs": []
    },
    {
      "cell_type": "code",
      "source": [
        "pdfFileObj = open('Атлас 2021_2.pdf','rb')     #'rb' for read binary mode \n",
        "\n",
        "pdfReader = PyPDF2.PdfReader(pdfFileObj)\n",
        "\n",
        "\n",
        "pageObj = pdfReader.pages[5]          #'9' is the page number\n",
        "\n",
        "test = pageObj.extract_text()"
      ],
      "metadata": {
        "id": "e129d8wIh-PK"
      },
      "execution_count": null,
      "outputs": []
    },
    {
      "cell_type": "code",
      "source": [
        "from tqdm import tqdm"
      ],
      "metadata": {
        "id": "ukKyGP3jiJQF"
      },
      "execution_count": null,
      "outputs": []
    },
    {
      "cell_type": "code",
      "source": [
        "pdf_dict = {}\n",
        "\n",
        "for i in tqdm(range(len(pdfReader.pages))):\n",
        "  if i > 473:\n",
        "    pdf_dict[i-1] = pdfReader.pages[i].extract_text()\n",
        "  else:\n",
        "    pdf_dict[i] = pdfReader.pages[i].extract_text()"
      ],
      "metadata": {
        "id": "CTGNf_1BgihK",
        "colab": {
          "base_uri": "https://localhost:8080/"
        },
        "outputId": "0db154d7-9da3-4895-f786-612a24429a50"
      },
      "execution_count": null,
      "outputs": [
        {
          "output_type": "stream",
          "name": "stderr",
          "text": [
            "100%|██████████| 657/657 [01:42<00:00,  6.40it/s]\n"
          ]
        }
      ]
    },
    {
      "cell_type": "code",
      "source": [
        "pdfReader.pages[7].extract_text()"
      ],
      "metadata": {
        "colab": {
          "base_uri": "https://localhost:8080/",
          "height": 534
        },
        "id": "lx4gWjMFC-BC",
        "outputId": "71b1e8b8-4151-415b-c1e6-a9d0a87f7e6b"
      },
      "execution_count": null,
      "outputs": [
        {
          "output_type": "execute_result",
          "data": {
            "text/plain": [
              "'ВЕРБЕНА  ЛЕКАРСТВЕННАЯ  \\nVerbena  officinalis L ................................ ................................ ................................ ................................ ................................ .. 118 \\nВЗДУТОПЛОДНИК  СИБИРСКИЙ  \\nPhlojodicarpus  sibiricus  (Fisch.)  Кoso-Рol ................................ ................................ ................................ ..............................  120 \\nВИНОГРАД  КУЛЬТУРНЫЙ  \\nVitis  vinifera  L ................................ ................................ ................................ ................................ ................................ ...........  123 \\nВОДОСБОР  ОБЫКНОВЕННЫЙ  \\nAquilegia vulgaris  L ................................ ................................ ................................ ................................ ................................ .. 128 \\nВОЛОДУШКА  ЗОЛОТИСТАЯ  \\nBupleurum aureum  Fisch. ex Hoffm.  ................................ ................................ ................................ ................................ ....... 130 \\nГ \\nГАМАМЕЛИС  ВИРГИНСКИЙ  \\nHamamelis virginiana  L................................. ................................ ................................ ................................ ...........................  133 \\nГАРМАЛА  ОБЫКНОВЕННАЯ  \\nPeganum  harmala  L. ................................ ................................ ................................ ................................ ................................ . 135 \\nГОРЕЦ  ЗМЕИНЫЙ  \\nPersicaria bistorta  (L.) Samp.  ................................ ................................ ................................ ................................ ...................  138 \\nГОРЕЦ  ПЕРЕЧНЫЙ  \\nPersicaria  hydropiper  (L.) Delarbre  ................................ ................................ ................................ ................................ .........  142 \\nГОРЕЦ  ПОЧЕЧУЙНЫЙ  \\nPerscaria maculosa  Gray  ................................ ................................ ................................ ................................ ..........................  145 \\nГОРЕЦ  ПТИЧИЙ  \\nPolygonum aviculare  L. s.l ................................ ................................ ................................ ................................ ........................  147 \\nГОРЕЧАВКА  ЖЁЛТАЯ  \\nGentiana  lutea  L. ................................ ................................ ................................ ................................ ................................ ....... 150 \\nГОРИЦВЕТ  ВЕСЕННИЙ  \\nAdonis vernalis  L. ................................ ................................ ................................ ................................ ................................ ...... 153 \\nГОРЧИЦА  САРЕПТСКАЯ  \\nBrassica juncea  (L.) Czern.  ................................ ................................ ................................ ................................ ......................  156 \\nГРЕЧИХА  СЪЕДОБНАЯ  \\nFagopyrum esculentum  Moench  ................................ ................................ ................................ ................................ ..............  159 \\nГРЫЖНИК  ГЛАДКИЙ  \\nHerniaria glabra  L. ................................ ................................ ................................ ................................ ................................ ... 161 \\nД \\nДЕВЯСИЛ  ВЫСОКИЙ  '"
            ],
            "application/vnd.google.colaboratory.intrinsic+json": {
              "type": "string"
            }
          },
          "metadata": {},
          "execution_count": 36
        }
      ]
    },
    {
      "cell_type": "code",
      "source": [
        "import re"
      ],
      "metadata": {
        "id": "fBIp3ScpmPmU"
      },
      "execution_count": null,
      "outputs": []
    },
    {
      "cell_type": "code",
      "source": [
        "result_dict"
      ],
      "metadata": {
        "colab": {
          "base_uri": "https://localhost:8080/"
        },
        "id": "ywY8a2a9Gzvt",
        "outputId": "75675ae4-7a41-4185-aa4c-7ec1457a790a"
      },
      "execution_count": 66,
      "outputs": [
        {
          "output_type": "execute_result",
          "data": {
            "text/plain": [
              "{'АДЕНОСТИЛЕС  РОМБОЛИСТНЫЙ  ': ['19'],\n",
              " 'АИР  ОБЫКНОВЕННЫЙ  ': ['21'],\n",
              " 'АЛОЭ  ДРЕВОВИДНОЕ  ': ['24'],\n",
              " 'АЛТЕЙ  ЛЕКАРСТВЕННЫЙ  ': ['27'],\n",
              " 'АММИ  БОЛЬШАЯ  ': ['30'],\n",
              " 'АММИ  ЗУБНАЯ  ': ['33'],\n",
              " 'АНИС  ОБЫКНОВЕННЫЙ  ': ['35'],\n",
              " 'АРАЛИЯ  ВЫСОКАЯ  ': ['37'],\n",
              " 'АРНИКА  ГОРНАЯ  ': ['40'],\n",
              " 'АРНИКА  ШАМИССО  ': ['43'],\n",
              " 'АРОНИЯ  ЧЕРНОПЛОДНАЯ  ': ['45'],\n",
              " 'АСТРАГАЛ  ШЕРСТИСТОЦВЕТКОВЫЙ  ': ['48'],\n",
              " 'БАГУЛЬНИК  БОЛОТНЫЙ  ': ['51'],\n",
              " 'БАДАН  ТОЛСТОЛИСТНЫЙ  ': ['55'],\n",
              " 'БАРАНЕЦ  ОБЫКНОВЕННЫЙ  ': ['59'],\n",
              " 'БАРБАРИС  ОБЫКНОВЕННЫЙ  ': ['61'],\n",
              " 'БАРВИНОК  МАЛЫЙ  ': ['64'],\n",
              " 'БАРХАТ  АМУРСКИЙ  ': ['66'],\n",
              " 'БЕДРЕНЕЦ  КАМНЕЛОМКА  ': ['70'],\n",
              " 'БЕЗВРЕМЕННИК  ВЕЛИКОЛЕПНЫЙ  ': ['73'],\n",
              " 'БЕЛЕНА  ЧЕРНАЯ  ': ['76'],\n",
              " 'БЕЛОКОПЫТНИК  ГИБРИДНЫЙ  ': ['78'],\n",
              " 'БЕРЁЗА  ПОВИСЛАЯ  ': ['80'],\n",
              " 'БЕССМЕРТНИК  ПЕСЧАНЫЙ  ': ['85'],\n",
              " 'БОРЕЦ  СЕВЕРНЫЙ  ': ['89'],\n",
              " 'БОЯРЫШНИК  КРОВАВО -КРАСНЫЙ  ': ['94'],\n",
              " 'БРИОФИЛЛУМ  ПЕРИСТЫЙ  ': ['99'],\n",
              " 'БРУСНИКА  ОБЫКНОВЕННАЯ  ': ['101'],\n",
              " 'БУЗИНА  ЧЕРНАЯ  ': ['105'],\n",
              " 'ВАЛЕРИАНА  ЛЕКАРСТВЕННАЯ  ': ['108'],\n",
              " 'ВАСИЛЕК  БЛАГОСЛОВЕННЫЙ  ': ['112'],\n",
              " 'ВАСИЛЕК  ПОСЕВНОЙ  ': ['114'],\n",
              " 'ВАХТА  ТРЕХЛИСТНАЯ  ': ['116'],\n",
              " 'ВЕРБЕНА  ЛЕКАРСТВЕННАЯ  ': ['118'],\n",
              " 'ВЗДУТОПЛОДНИК  СИБИРСКИЙ  ': ['120'],\n",
              " 'ВИНОГРАД  КУЛЬТУРНЫЙ  ': ['123'],\n",
              " 'ВОДОСБОР  ОБЫКНОВЕННЫЙ  ': ['128'],\n",
              " 'ВОЛОДУШКА  ЗОЛОТИСТАЯ  ': ['130'],\n",
              " 'ГАМАМЕЛИС  ВИРГИНСКИЙ  ': ['133'],\n",
              " 'ГАРМАЛА  ОБЫКНОВЕННАЯ  ': ['135'],\n",
              " 'ГОРЕЦ  ЗМЕИНЫЙ  ': ['138'],\n",
              " 'ГОРЕЦ  ПЕРЕЧНЫЙ  ': ['142'],\n",
              " 'ГОРЕЦ  ПОЧЕЧУЙНЫЙ  ': ['145'],\n",
              " 'ГОРЕЦ  ПТИЧИЙ  ': ['147'],\n",
              " 'ГОРЕЧАВКА  ЖЁЛТАЯ  ': ['150'],\n",
              " 'ГОРИЦВЕТ  ВЕСЕННИЙ  ': ['153'],\n",
              " 'ГОРЧИЦА  САРЕПТСКАЯ  ': ['156'],\n",
              " 'ГРЕЧИХА  СЪЕДОБНАЯ  ': ['159'],\n",
              " 'ГРЫЖНИК  ГЛАДКИЙ  ': ['161'],\n",
              " 'ДЕВЯСИЛ  ВЫСОКИЙ  ': ['163'],\n",
              " 'ДЕСМОДИУМ  КАНАДСКИЙ  ': ['166'],\n",
              " 'ДИОСКОРЕЯ  НИППОНСКАЯ  ': ['168'],\n",
              " 'ДОННИК  ЛЕКАРСТВЕННЫЙ  ': ['170'],\n",
              " 'ДУБ  ОБЫКНОВЕННЫЙ  ': ['174'],\n",
              " 'ДУРМАН  ИНДЕЙСКИЙ  ': ['177'],\n",
              " 'ДУРМАН  ОБЫКНОВЕННЫЙ  ': ['179'],\n",
              " 'ДУРНИШНИК  ОБЫКНОВЕННЫЙ  ': ['182'],\n",
              " 'ДУШИЦА  ОБЫКНОВЕННАЯ  ': ['185'],\n",
              " 'ДУДНИК  ЛЕКАРСТВЕННЫЙ  ': ['188'],\n",
              " 'ЕЛЬ ОБЫКНОВЕННАЯ  ': ['193'],\n",
              " 'ЖЕЛТУШНИК  РАСКИДИСТЫЙ  ': ['196'],\n",
              " 'ЖЕНЬШЕНЬ  ': ['199'],\n",
              " 'ЖОСТЕР  СЛАБИТЕЛЬНЫЙ  ': ['204'],\n",
              " 'ЗАМАНИХА ВЫСОКАЯ  ': ['207'],\n",
              " 'ЗВЕРОБОЙ  ПРОДЫРЯВЛЕННЫЙ  ': ['210'],\n",
              " 'ЗЕМЛЯНИКА ЛЕСНАЯ  ': ['213'],\n",
              " 'ЗМЕЕГОЛОВНИК  МОЛДАВСКИЙ  ': ['218'],\n",
              " 'ЗОЛОТАРНИК  КАНАДСКИЙ  ': ['221'],\n",
              " 'ЗОЛОТОТЫСЯЧНИК  ОБЫКНОВЕННЫЙ  ': ['225'],\n",
              " 'ЗЮЗНИК  ЕВРОПЕЙСКИЙ  ': ['228'],\n",
              " 'ИСТОД  ТОНКОЛИСТНЫЙ  ': ['232'],\n",
              " 'КАЛИНА ОБЫКНОВЕННАЯ  ': ['236'],\n",
              " 'КАТАРАНТУС  РОЗОВЫЙ  ': ['239'],\n",
              " 'КОНСКИЙ  КАШТАН  ОБЫКНОВЕННЫЙ  ': ['242'],\n",
              " 'КОПЕЕЧНИК  АЛЬПИЙСКИЙ  ': ['245'],\n",
              " 'КОПЫТЕНЬ  ЕВРОПЕЙСКИЙ  ': ['247'],\n",
              " 'КОРИАНДР  ПОСЕВНОЙ  ': ['250'],\n",
              " 'КОРОВЯК  ГУСТОЦВЕТКОВЫЙ  ': ['253'],\n",
              " 'КРАПИВА  ДВУДОМНАЯ  ': ['256'],\n",
              " 'КРАСАВКА  ОБЫКНОВЕННАЯ  ': ['258'],\n",
              " 'КРОВОХЛЁБКА  ЛЕКАРСТВЕННАЯ  ': ['261'],\n",
              " 'КРУШИНА  ОЛЬХОВИДНАЯ  ': ['264'],\n",
              " 'КУБЫШКА  ЖЁЛТАЯ  ': ['267'],\n",
              " 'КУКУРУЗА  ОБЫКНОВЕННАЯ  ': ['270'],\n",
              " 'ЛАБАЗНИК  ВЯЗОЛИСТНЫЙ  ': ['274'],\n",
              " 'ЛАБАЗНИК  ОБЫКНОВЕННЫЙ  ': ['278'],\n",
              " 'ЛАМИНАРИЯ  ЯПОНСКАЯ  ': ['281'],\n",
              " 'ЛАНДЫШ  КЕЙСКЕ  ': ['284'],\n",
              " 'ЛАНДЫШ  МАЙСКИЙ  ': ['287'],\n",
              " 'ЛАПЧАТКА  БЕЛАЯ  ': ['291'],\n",
              " 'ЛАПЧАТКА  ПРЯМОСТОЯЧАЯ  ': ['294'],\n",
              " 'ЛАПЧАТКА  СЕРЕБРИСТАЯ  ': ['296'],\n",
              " 'ЛЁН  ПОСЕВОЙ  ': ['299'],\n",
              " 'ЛЕСПЕДЕЦА  ДВУЦВЕТНАЯ  ': ['301'],\n",
              " 'ЛЕСПЕДЕЦА  КОПЕЕЧНИКОВАЯ  ': ['304'],\n",
              " 'ЛИМОННИК  КИТАЙСКИЙ  ': ['305'],\n",
              " 'ЛИПА  СЕРДЦЕВИДНАЯ  ': ['310'],\n",
              " 'ЛОМОНОС  ВИНОГРАДОЛИСТНЫЙ  ': ['313'],\n",
              " 'ЛОПУХ  БОЛЬШОЙ  ': ['314'],\n",
              " 'МАГНОЛИЯ  КРУПНОЦВЕТКОВАЯ  ': ['317'],\n",
              " 'МАКЛЕЯ  СЕРДЦЕВИДНАЯ  ': ['320'],\n",
              " 'МАЛИНА  ОБЫКНОВЕННАЯ  ': ['323'],\n",
              " 'МАРЕНА  КРАСИЛЬНАЯ  ': ['326'],\n",
              " 'МАТЬ -И-МАЧЕХА  ОБЫКНОВЕННАЯ  ': ['329'],\n",
              " 'МАЧОК  ЖЁЛТЫЙ  ': ['332'],\n",
              " 'МЕЛИССА  ЛЕКАРСТВЕННАЯ  ': ['335'],\n",
              " 'МИНДАЛЬ  ОБЫКНОВЕННЫЙ  ': ['338'],\n",
              " 'МОЖЖЕВЕЛЬНИК  ОБЫКНОВЕННЫЙ  ': ['341'],\n",
              " 'МОРКОВЬ  ДИКАЯ  ': ['344'],\n",
              " 'МЯТА  ПЕРЕЧНАЯ  ': ['346'],\n",
              " 'НАПЕРСТЯНКА  КРУПНОЦВЕТКОВАЯ  ': ['350'],\n",
              " 'НОГОТКИ  ЛЕКАРСТВЕННЫЕ  ': ['354'],\n",
              " 'ОБЛЕПИХА  КРУШИНОВИДНАЯ  ': ['357'],\n",
              " 'ОВЕС  ПОСЕВНОЙ  ': ['363'],\n",
              " 'ОДУВАНЧИК  ИЗОГНУТЫЙ  ': ['366'],\n",
              " 'ОКОПНИК  ЖЁСТКИЙ  ': ['369'],\n",
              " 'ОЛЬХА  ЧЁРНАЯ  ': ['371'],\n",
              " 'ОМЕЛА  БЕЛАЯ  ': ['374'],\n",
              " 'ОРТОСИФОН ОСТИСТЫЙ  ': ['377'],\n",
              " 'ОЧИТОК  БОЛЬШОЙ  ': ['379'],\n",
              " 'ПАЖИТНИК  СЕННОЙ  ': ['382'],\n",
              " 'ПАСЛЕН  СЛАДКО -ГОРЬКИЙ  ': ['385'],\n",
              " 'ПАССИФЛОРА  ИНКАРНАТНАЯ  ': ['388'],\n",
              " 'ПАСТЕРНАК  ПОСЕВНОЙ  ': ['391'],\n",
              " 'ПАСТУШЬЯ  СУМКА  ОБЫКНОВЕННАЯ  ': ['394'],\n",
              " 'ПЕРЕСТУПЕНЬ  БЕЛЫЙ  ': ['397'],\n",
              " 'ПЕРЕЦ  ОДНОЛЕТНИЙ  ': ['399'],\n",
              " 'ПИЖМА  ОБЫКНОВЕННАЯ  ': ['401'],\n",
              " 'ПИОН  УКЛОНЯЮЩИЙСЯ  ': ['405'],\n",
              " 'ПИРЕТРУМ  ЦИНЕРАРИЕЛИСТНЫЙ  ': ['407'],\n",
              " 'ПЛАУН  БУЛАВОВИДНЫЙ  ': ['409'],\n",
              " 'ПОДОРОЖНИК  БЛОШНЫЙ  ': ['411'],\n",
              " 'ПОДОРОЖНИК  БОЛЬШОЙ  ': ['1', '413'],\n",
              " 'ПОДОФИЛЛ  ЩИТОВИДНЫЙ  ': ['416'],\n",
              " 'ПОЛЫНЬ  ГОРЬКАЯ  ': ['418'],\n",
              " 'ПОЛЫНЬ  ОБЫКНОВЕННАЯ  ': ['422'],\n",
              " 'ПРУТНЯК  ОБЫКНОВЕННЫЙ  ': ['424'],\n",
              " 'ПУСТЫРНИК  СЕРДЕЧНЫЙ  ': ['426'],\n",
              " 'РАПОНТИКУМ  САФЛОРОВИДНЫЙ  ': ['430'],\n",
              " 'РАСТОРОПША  ПЯТНИСТАЯ  ': ['435'],\n",
              " 'РЕВЕНЬ  ПАЛЬЧАТЫЙ  ТАНГУТСКИЙ  ': ['438'],\n",
              " 'РЕПЕШОК  ВОЛОСИСТЫЙ  ': ['441'],\n",
              " 'РЕПЕШОК  ОБЫКНОВЕННЫЙ  ': ['443'],\n",
              " 'РОДИОЛА  РОЗОВАЯ  ': ['446'],\n",
              " 'РОМАШКА  АПТЕЧНАЯ  ': ['450'],\n",
              " 'РОМАШКА  БЕЗЪЯЗЫЧКОВАЯ  ': ['454'],\n",
              " 'РЯБИНА  ОБЫКНОВЕННАЯ  ': ['456'],\n",
              " 'САБЕЛЬНИК БОЛОТНЫЙ  ': ['460'],\n",
              " 'СВОБОДНОЯГОДНИК  КОЛЮЧИЙ  ': ['463'],\n",
              " 'СЕКУРИНЕГА  ПОЛУКУСТАРНИКОВАЯ  ': ['466'],\n",
              " 'СЕРПУХА ВЕНЦЕНОСНАЯ  ': ['469'],\n",
              " 'СИНЮХА  ГОЛУБАЯ  ': ['474'],\n",
              " 'СКОПОЛИЯ  КАРНИОЛИЙСКАЯ  ': ['478'],\n",
              " 'СКУМПИЯ  КОЖЕВЕННАЯ  ': ['481'],\n",
              " 'СМОКОВНИЦА  ОБЫКНОВЕННАЯ  ': ['484'],\n",
              " 'СМОРОДИНА  ЧЕРНАЯ  ': ['486'],\n",
              " 'СОЛОДКА  ГОЛАЯ  ': ['489'],\n",
              " 'СОФОРА  ЯПОНСКАЯ  ': ['493'],\n",
              " 'СПОРЫНЬЯ  ПУРПУРОВАЯ  ': ['496'],\n",
              " 'СТАЛЬНИК  КОЛЮЧИЙ  ': ['501'],\n",
              " 'СУМАХ  ДУБИЛЬНЫЙ  ': ['503'],\n",
              " 'СУШЕНИЦА  ТОПЯНАЯ  ': ['505'],\n",
              " 'ТЕРМОПСИС  ЛАНЦЕТОВИДНЫЙ  ': ['508'],\n",
              " 'ТИМЬЯН  ОБЫКНОВЕННЫЙ  ': ['511'],\n",
              " 'ТИМЬЯН  ПОЛЗУЧИЙ  ': ['514'],\n",
              " 'ТМИН  ОБЫКНОВЕННЫЙ  ': ['517'],\n",
              " 'ТОЛОКНЯНКА  ОБЫКНОВЕННАЯ  ': ['521'],\n",
              " 'ТЫКВА  ОБЫКНОВЕННАЯ  ': ['526'],\n",
              " 'ТЫСЯЧЕЛИСТНИК  ОБЫКНОВЕННЫЙ  ': ['529'],\n",
              " 'УКРОП ПАХУЧИЙ  ': ['534'],\n",
              " 'ФАСОЛЬ ОБЫ КНОВЕННАЯ  ': ['536'],\n",
              " 'ФЕНХЕЛЬ  ОБЫКНОВЕННЫЙ  ': ['538'],\n",
              " 'ФЕРУЛА  ВОНЮЧАЯ  ': ['540'],\n",
              " 'ФИАЛКА  ТРЁХЦВЕТНАЯ  ': ['543'],\n",
              " 'ХВОЩ  ПОЛЕВОЙ  ': ['546'],\n",
              " 'ХМЕЛЬ  ОБЫКНОВЕННЫЙ  ': ['549'],\n",
              " 'ЦЕТРАРИЯ  ИСЛАНДСКАЯ  ': ['553'],\n",
              " 'ЦИКОРИЙ  ОБЫКНОВЕННЫЙ  ': ['555'],\n",
              " 'ЧАГА  (берёзовый  гриб,  трутовик  скошенный)  ': ['558'],\n",
              " 'ЧЕМЕРИЦА  ЛОБЕЛЯ  ': ['561'],\n",
              " 'ЧЕРЕДА ТРЁХРАЗДЕЛЬНАЯ  ': ['564'],\n",
              " 'ЧЕРЁМУХА ОБЫКНОВЕННАЯ  ': ['568'],\n",
              " 'ЧЕРНИКА ОБЫКНОВЕННАЯ  ': ['571'],\n",
              " 'ЧЕРНУШКА ДАМАССКАЯ  ': ['575'],\n",
              " 'ЧИСТОТЕЛ  БОЛЬШОЙ  ': ['577'],\n",
              " 'ШАЛФЕЙ  ЛЕКАРСТВЕННЫЙ  ': ['580'],\n",
              " 'ШИПОВНИК МАЙСКИЙ  ': ['583'],\n",
              " 'ШЛЕМНИК  БАЙКАЛЬСКИЙ  ': ['589'],\n",
              " 'ЩАВЕЛЬ  КОНСКИЙ  ': ['593'],\n",
              " 'ЩИТОВНИК  МУЖСКОЙ  ': ['596'],\n",
              " 'ЭВКАЛИПТ  ПРУТОВИДНЫЙ  ': ['598'],\n",
              " 'ЭВКОММИЯ  ВЯЗОЛИСТНАЯ  ': ['602'],\n",
              " 'ЭРВА  ШЕРСТИСТАЯ  ': ['604'],\n",
              " 'ЭФЕДРА  ХВОЩЕВАЯ  ': ['607'],\n",
              " 'ЭХИНАЦЕЯ ПУРПУРНАЯ  ': ['611'],\n",
              " 'ЯКОРЦЫ  СТЕЛЮЩИЕСЯ  ': ['615']}"
            ]
          },
          "metadata": {},
          "execution_count": 66
        }
      ]
    },
    {
      "cell_type": "code",
      "source": [
        "\"  sdf sdf sdfsdf  \".strip()"
      ],
      "metadata": {
        "colab": {
          "base_uri": "https://localhost:8080/",
          "height": 36
        },
        "id": "uQfd1ZqkMHnb",
        "outputId": "54400ae8-2998-4fdd-f42f-745e27db9265"
      },
      "execution_count": 87,
      "outputs": [
        {
          "output_type": "execute_result",
          "data": {
            "text/plain": [
              "'sdf sdf sdfsdf'"
            ],
            "application/vnd.google.colaboratory.intrinsic+json": {
              "type": "string"
            }
          },
          "metadata": {},
          "execution_count": 87
        }
      ]
    },
    {
      "cell_type": "code",
      "source": [
        "name_pages_dict = {}\n",
        "s_test = '\\n'.join([pdfReader.pages[i].extract_text() for i in range(5,18)]).split('\\n')\n",
        "for i in range(len(s_test)):\n",
        "    if '...' in s_test[i]:\n",
        "        index_name = s_test[i-1]\n",
        "        index_name = re.sub(' +', ' ', index_name)\n",
        "        index_name = re.sub(' *- *', '-', index_name)\n",
        "        index_name = index_name.title()\n",
        "        index_name = index_name.strip()\n",
        "        name_pages_dict[index_name] = re.findall(r'\\d+', s_test[i])"
      ],
      "metadata": {
        "id": "gt8x-GdBl7aO"
      },
      "execution_count": 93,
      "outputs": []
    },
    {
      "cell_type": "code",
      "source": [
        "name_pages_dict"
      ],
      "metadata": {
        "colab": {
          "base_uri": "https://localhost:8080/"
        },
        "id": "oNy6rBdCMUfz",
        "outputId": "d1f0b9b6-7894-4b2b-c6cc-c34a1335c5a5"
      },
      "execution_count": 94,
      "outputs": [
        {
          "output_type": "execute_result",
          "data": {
            "text/plain": [
              "{'Аденостилес Ромболистный': ['19'],\n",
              " 'Аир Обыкновенный': ['21'],\n",
              " 'Алоэ Древовидное': ['24'],\n",
              " 'Алтей Лекарственный': ['27'],\n",
              " 'Амми Большая': ['30'],\n",
              " 'Амми Зубная': ['33'],\n",
              " 'Анис Обыкновенный': ['35'],\n",
              " 'Аралия Высокая': ['37'],\n",
              " 'Арника Горная': ['40'],\n",
              " 'Арника Шамиссо': ['43'],\n",
              " 'Арония Черноплодная': ['45'],\n",
              " 'Астрагал Шерстистоцветковый': ['48'],\n",
              " 'Багульник Болотный': ['51'],\n",
              " 'Бадан Толстолистный': ['55'],\n",
              " 'Баранец Обыкновенный': ['59'],\n",
              " 'Барбарис Обыкновенный': ['61'],\n",
              " 'Барвинок Малый': ['64'],\n",
              " 'Бархат Амурский': ['66'],\n",
              " 'Бедренец Камнеломка': ['70'],\n",
              " 'Безвременник Великолепный': ['73'],\n",
              " 'Белена Черная': ['76'],\n",
              " 'Белокопытник Гибридный': ['78'],\n",
              " 'Берёза Повислая': ['80'],\n",
              " 'Бессмертник Песчаный': ['85'],\n",
              " 'Борец Северный': ['89'],\n",
              " 'Боярышник Кроваво-Красный': ['94'],\n",
              " 'Бриофиллум Перистый': ['99'],\n",
              " 'Брусника Обыкновенная': ['101'],\n",
              " 'Бузина Черная': ['105'],\n",
              " 'Валериана Лекарственная': ['108'],\n",
              " 'Василек Благословенный': ['112'],\n",
              " 'Василек Посевной': ['114'],\n",
              " 'Вахта Трехлистная': ['116'],\n",
              " 'Вербена Лекарственная': ['118'],\n",
              " 'Вздутоплодник Сибирский': ['120'],\n",
              " 'Виноград Культурный': ['123'],\n",
              " 'Водосбор Обыкновенный': ['128'],\n",
              " 'Володушка Золотистая': ['130'],\n",
              " 'Гамамелис Виргинский': ['133'],\n",
              " 'Гармала Обыкновенная': ['135'],\n",
              " 'Горец Змеиный': ['138'],\n",
              " 'Горец Перечный': ['142'],\n",
              " 'Горец Почечуйный': ['145'],\n",
              " 'Горец Птичий': ['147'],\n",
              " 'Горечавка Жёлтая': ['150'],\n",
              " 'Горицвет Весенний': ['153'],\n",
              " 'Горчица Сарептская': ['156'],\n",
              " 'Гречиха Съедобная': ['159'],\n",
              " 'Грыжник Гладкий': ['161'],\n",
              " 'Девясил Высокий': ['163'],\n",
              " 'Десмодиум Канадский': ['166'],\n",
              " 'Диоскорея Ниппонская': ['168'],\n",
              " 'Донник Лекарственный': ['170'],\n",
              " 'Дуб Обыкновенный': ['174'],\n",
              " 'Дурман Индейский': ['177'],\n",
              " 'Дурман Обыкновенный': ['179'],\n",
              " 'Дурнишник Обыкновенный': ['182'],\n",
              " 'Душица Обыкновенная': ['185'],\n",
              " 'Дудник Лекарственный': ['188'],\n",
              " 'Ель Обыкновенная': ['193'],\n",
              " 'Желтушник Раскидистый': ['196'],\n",
              " 'Женьшень': ['199'],\n",
              " 'Жостер Слабительный': ['204'],\n",
              " 'Заманиха Высокая': ['207'],\n",
              " 'Зверобой Продырявленный': ['210'],\n",
              " 'Земляника Лесная': ['213'],\n",
              " 'Змееголовник Молдавский': ['218'],\n",
              " 'Золотарник Канадский': ['221'],\n",
              " 'Золототысячник Обыкновенный': ['225'],\n",
              " 'Зюзник Европейский': ['228'],\n",
              " 'Истод Тонколистный': ['232'],\n",
              " 'Калина Обыкновенная': ['236'],\n",
              " 'Катарантус Розовый': ['239'],\n",
              " 'Конский Каштан Обыкновенный': ['242'],\n",
              " 'Копеечник Альпийский': ['245'],\n",
              " 'Копытень Европейский': ['247'],\n",
              " 'Кориандр Посевной': ['250'],\n",
              " 'Коровяк Густоцветковый': ['253'],\n",
              " 'Крапива Двудомная': ['256'],\n",
              " 'Красавка Обыкновенная': ['258'],\n",
              " 'Кровохлёбка Лекарственная': ['261'],\n",
              " 'Крушина Ольховидная': ['264'],\n",
              " 'Кубышка Жёлтая': ['267'],\n",
              " 'Кукуруза Обыкновенная': ['270'],\n",
              " 'Лабазник Вязолистный': ['274'],\n",
              " 'Лабазник Обыкновенный': ['278'],\n",
              " 'Ламинария Японская': ['281'],\n",
              " 'Ландыш Кейске': ['284'],\n",
              " 'Ландыш Майский': ['287'],\n",
              " 'Лапчатка Белая': ['291'],\n",
              " 'Лапчатка Прямостоячая': ['294'],\n",
              " 'Лапчатка Серебристая': ['296'],\n",
              " 'Лён Посевой': ['299'],\n",
              " 'Леспедеца Двуцветная': ['301'],\n",
              " 'Леспедеца Копеечниковая': ['304'],\n",
              " 'Лимонник Китайский': ['305'],\n",
              " 'Липа Сердцевидная': ['310'],\n",
              " 'Ломонос Виноградолистный': ['313'],\n",
              " 'Лопух Большой': ['314'],\n",
              " 'Магнолия Крупноцветковая': ['317'],\n",
              " 'Маклея Сердцевидная': ['320'],\n",
              " 'Малина Обыкновенная': ['323'],\n",
              " 'Марена Красильная': ['326'],\n",
              " 'Мать-И-Мачеха Обыкновенная': ['329'],\n",
              " 'Мачок Жёлтый': ['332'],\n",
              " 'Мелисса Лекарственная': ['335'],\n",
              " 'Миндаль Обыкновенный': ['338'],\n",
              " 'Можжевельник Обыкновенный': ['341'],\n",
              " 'Морковь Дикая': ['344'],\n",
              " 'Мята Перечная': ['346'],\n",
              " 'Наперстянка Крупноцветковая': ['350'],\n",
              " 'Ноготки Лекарственные': ['354'],\n",
              " 'Облепиха Крушиновидная': ['357'],\n",
              " 'Овес Посевной': ['363'],\n",
              " 'Одуванчик Изогнутый': ['366'],\n",
              " 'Окопник Жёсткий': ['369'],\n",
              " 'Ольха Чёрная': ['371'],\n",
              " 'Омела Белая': ['374'],\n",
              " 'Ортосифон Остистый': ['377'],\n",
              " 'Очиток Большой': ['379'],\n",
              " 'Пажитник Сенной': ['382'],\n",
              " 'Паслен Сладко-Горький': ['385'],\n",
              " 'Пассифлора Инкарнатная': ['388'],\n",
              " 'Пастернак Посевной': ['391'],\n",
              " 'Пастушья Сумка Обыкновенная': ['394'],\n",
              " 'Переступень Белый': ['397'],\n",
              " 'Перец Однолетний': ['399'],\n",
              " 'Пижма Обыкновенная': ['401'],\n",
              " 'Пион Уклоняющийся': ['405'],\n",
              " 'Пиретрум Цинерариелистный': ['407'],\n",
              " 'Плаун Булавовидный': ['409'],\n",
              " 'Подорожник Блошный': ['411'],\n",
              " 'Подорожник Большой': ['1', '413'],\n",
              " 'Подофилл Щитовидный': ['416'],\n",
              " 'Полынь Горькая': ['418'],\n",
              " 'Полынь Обыкновенная': ['422'],\n",
              " 'Прутняк Обыкновенный': ['424'],\n",
              " 'Пустырник Сердечный': ['426'],\n",
              " 'Рапонтикум Сафлоровидный': ['430'],\n",
              " 'Расторопша Пятнистая': ['435'],\n",
              " 'Ревень Пальчатый Тангутский': ['438'],\n",
              " 'Репешок Волосистый': ['441'],\n",
              " 'Репешок Обыкновенный': ['443'],\n",
              " 'Родиола Розовая': ['446'],\n",
              " 'Ромашка Аптечная': ['450'],\n",
              " 'Ромашка Безъязычковая': ['454'],\n",
              " 'Рябина Обыкновенная': ['456'],\n",
              " 'Сабельник Болотный': ['460'],\n",
              " 'Свободноягодник Колючий': ['463'],\n",
              " 'Секуринега Полукустарниковая': ['466'],\n",
              " 'Серпуха Венценосная': ['469'],\n",
              " 'Синюха Голубая': ['474'],\n",
              " 'Скополия Карниолийская': ['478'],\n",
              " 'Скумпия Кожевенная': ['481'],\n",
              " 'Смоковница Обыкновенная': ['484'],\n",
              " 'Смородина Черная': ['486'],\n",
              " 'Солодка Голая': ['489'],\n",
              " 'Софора Японская': ['493'],\n",
              " 'Спорынья Пурпуровая': ['496'],\n",
              " 'Стальник Колючий': ['501'],\n",
              " 'Сумах Дубильный': ['503'],\n",
              " 'Сушеница Топяная': ['505'],\n",
              " 'Термопсис Ланцетовидный': ['508'],\n",
              " 'Тимьян Обыкновенный': ['511'],\n",
              " 'Тимьян Ползучий': ['514'],\n",
              " 'Тмин Обыкновенный': ['517'],\n",
              " 'Толокнянка Обыкновенная': ['521'],\n",
              " 'Тыква Обыкновенная': ['526'],\n",
              " 'Тысячелистник Обыкновенный': ['529'],\n",
              " 'Укроп Пахучий': ['534'],\n",
              " 'Фасоль Обы Кновенная': ['536'],\n",
              " 'Фенхель Обыкновенный': ['538'],\n",
              " 'Ферула Вонючая': ['540'],\n",
              " 'Фиалка Трёхцветная': ['543'],\n",
              " 'Хвощ Полевой': ['546'],\n",
              " 'Хмель Обыкновенный': ['549'],\n",
              " 'Цетрария Исландская': ['553'],\n",
              " 'Цикорий Обыкновенный': ['555'],\n",
              " 'Чага (Берёзовый Гриб, Трутовик Скошенный)': ['558'],\n",
              " 'Чемерица Лобеля': ['561'],\n",
              " 'Череда Трёхраздельная': ['564'],\n",
              " 'Черёмуха Обыкновенная': ['568'],\n",
              " 'Черника Обыкновенная': ['571'],\n",
              " 'Чернушка Дамасская': ['575'],\n",
              " 'Чистотел Большой': ['577'],\n",
              " 'Шалфей Лекарственный': ['580'],\n",
              " 'Шиповник Майский': ['583'],\n",
              " 'Шлемник Байкальский': ['589'],\n",
              " 'Щавель Конский': ['593'],\n",
              " 'Щитовник Мужской': ['596'],\n",
              " 'Эвкалипт Прутовидный': ['598'],\n",
              " 'Эвкоммия Вязолистная': ['602'],\n",
              " 'Эрва Шерстистая': ['604'],\n",
              " 'Эфедра Хвощевая': ['607'],\n",
              " 'Эхинацея Пурпурная': ['611'],\n",
              " 'Якорцы Стелющиеся': ['615']}"
            ]
          },
          "metadata": {},
          "execution_count": 94
        }
      ]
    },
    {
      "cell_type": "code",
      "source": [
        "indexes_page = []\n",
        "for i in name_pages_dict:\n",
        "    indexes_page += [int(name_pages_dict[i][-1])]\n",
        "indexes_page += [618]"
      ],
      "metadata": {
        "id": "fh9u7bQdr4Yc"
      },
      "execution_count": 95,
      "outputs": []
    },
    {
      "cell_type": "code",
      "source": [
        "indexes_page_range = []\n",
        "for i in range(len(indexes_page)-1):\n",
        "    indexes_page_range += [indexes_page[i:i+2]]"
      ],
      "metadata": {
        "id": "CoAMmmp2sr_q"
      },
      "execution_count": 96,
      "outputs": []
    },
    {
      "cell_type": "code",
      "source": [
        "name_list = [i for i in name_pages_dict]"
      ],
      "metadata": {
        "id": "LtYGIL5Uz0Yy"
      },
      "execution_count": 97,
      "outputs": []
    },
    {
      "cell_type": "code",
      "source": [
        "def extract_data_from_name(n):\n",
        "    data = ''\n",
        "    page_range = indexes_page_range[n]\n",
        "    for page_numer in range(page_range[0], page_range[1]+1):\n",
        "        data += pdf_dict[page_numer-1]\n",
        "\n",
        "    data = re.findall(r'Описание[\\. ]*[^\\t]*', data)[0]\n",
        "    data = re.findall(r'[^\\t]*\\n*Литерат *ура', data)[0][:-11]\n",
        "\n",
        "    data_farm = re.findall(r'Фармакологическ(?:ое|ие)\\s+(?:действие|свойство|свойства)[\\. ]*[^\\t]*', data)[0] \n",
        "    data = data[:-len(data_farm)-1]\n",
        "    data_farm = re.sub(r'\\n', '', data_farm)\n",
        "\n",
        "    data_him = re.findall(r'[\\n] *Х *и *м *и *ч *е *с *к *и *й *с *о *с *т *а *в[\\. ]*[^\\t]*', data)[0]\n",
        "    #return(data_him)\n",
        "    data = data[:-len(data_him)-1]\n",
        "    data_him = re.sub(r'\\n', '', data_him)\n",
        "    \n",
        "    \n",
        "   # print(data)\n",
        "    data_res = re.findall(r'Р *е *с *у *р *с *ы[\\. ]*[^\\t]*', data)[0]    \n",
        "    data = data[:-len(data_res)-1]\n",
        "    data_res = re.sub(r'\\n', '', data_res)\n",
        "\n",
        "    data_eco = re.findall(r'Экология[\\. ]*[^\\t]*', data)[0]    \n",
        "    data = data[:-len(data_eco)-1]\n",
        "    data_eco = re.sub(r'\\n', '', data_eco)\n",
        "\n",
        "    data_are = re.findall(r'[AА] *[pр] *[eе] *[aа] *л[\\. ]*[^\\t]*', data)[0]    \n",
        "    data = data[:-len(data_are)-1]  \n",
        "    data_are = re.sub(r'\\n', '', data_are)\n",
        "\n",
        "\n",
        "    data_capt = re.findall(r'Описание[\\. ]*[^\\t]*', data)[0]    \n",
        "    data_capt = re.sub(r'\\n', '', data_capt)\n",
        "  \n",
        "    return {'name':name_list[n], 'data_capt':data_capt, 'data_are':data_are,\n",
        "            'data_eco':data_eco, 'data_res':data_res, \n",
        "            'data_him':data_him, 'data_farm':data_farm}\n",
        "\n"
      ],
      "metadata": {
        "id": "tp6VwynoEI1U"
      },
      "execution_count": 98,
      "outputs": []
    },
    {
      "cell_type": "code",
      "source": [
        "indexes_page_range[98]"
      ],
      "metadata": {
        "colab": {
          "base_uri": "https://localhost:8080/"
        },
        "id": "D_gFvhP59QMI",
        "outputId": "85b8ff4d-7e17-468a-e26c-00dd6fc8483a"
      },
      "execution_count": 99,
      "outputs": [
        {
          "output_type": "execute_result",
          "data": {
            "text/plain": [
              "[314, 317]"
            ]
          },
          "metadata": {},
          "execution_count": 99
        }
      ]
    },
    {
      "cell_type": "code",
      "source": [
        "#data1 = extract_data_from_name(25)\n",
        "#data2 = re.findall(r'Описание[\\. ]*[^\\t]*', data1)[0]\n",
        "#data3 = re.findall(r'[^\\t]*\\n*Литература', data2)[0]"
      ],
      "metadata": {
        "id": "QIGJIIBZumuG"
      },
      "execution_count": 100,
      "outputs": []
    },
    {
      "cell_type": "code",
      "source": [
        "n = 0\n",
        "extract_data_result = {}\n",
        "error_list = []\n",
        "for i in tqdm(range(len(name_list))):\n",
        "    try:\n",
        "        extract_data_result[name_list[i]] = extract_data_from_name(n)\n",
        "        n += 1\n",
        "    except:\n",
        "        print(n)\n",
        "        print(name_list[i])\n",
        "        error_list += [n]\n",
        "        n += 1\n",
        "        continue\n",
        "#        print(n)\n",
        "#        extract_data_result[name_list[i]] = extract_data_from_name(n)\n",
        "\n",
        "#        n+=1\n",
        "    "
      ],
      "metadata": {
        "colab": {
          "base_uri": "https://localhost:8080/"
        },
        "id": "fkK0rU-6telU",
        "outputId": "897ca94e-d686-4906-89f8-a861994ecab1"
      },
      "execution_count": 101,
      "outputs": [
        {
          "output_type": "stream",
          "name": "stderr",
          "text": [
            " 20%|█▉        | 39/196 [00:22<01:41,  1.55it/s]"
          ]
        },
        {
          "output_type": "stream",
          "name": "stdout",
          "text": [
            "38\n",
            "Гамамелис Виргинский\n"
          ]
        },
        {
          "output_type": "stream",
          "name": "stderr",
          "text": [
            " 30%|██▉       | 58/196 [00:30<00:52,  2.60it/s]"
          ]
        },
        {
          "output_type": "stream",
          "name": "stdout",
          "text": [
            "57\n",
            "Душица Обыкновенная\n"
          ]
        },
        {
          "output_type": "stream",
          "name": "stderr",
          "text": [
            " 45%|████▌     | 89/196 [00:50<01:02,  1.71it/s]"
          ]
        },
        {
          "output_type": "stream",
          "name": "stdout",
          "text": [
            "87\n",
            "Ландыш Кейске\n"
          ]
        },
        {
          "output_type": "stream",
          "name": "stderr",
          "text": [
            " 46%|████▋     | 91/196 [00:51<01:00,  1.72it/s]"
          ]
        },
        {
          "output_type": "stream",
          "name": "stdout",
          "text": [
            "89\n",
            "Лапчатка Белая\n"
          ]
        },
        {
          "output_type": "stream",
          "name": "stderr",
          "text": [
            " 61%|██████    | 119/196 [01:02<00:19,  3.88it/s]"
          ]
        },
        {
          "output_type": "stream",
          "name": "stdout",
          "text": [
            "118\n",
            "Ортосифон Остистый\n"
          ]
        },
        {
          "output_type": "stream",
          "name": "stderr",
          "text": [
            " 62%|██████▏   | 121/196 [01:04<00:33,  2.23it/s]"
          ]
        },
        {
          "output_type": "stream",
          "name": "stdout",
          "text": [
            "120\n",
            "Пажитник Сенной\n"
          ]
        },
        {
          "output_type": "stream",
          "name": "stderr",
          "text": [
            " 68%|██████▊   | 133/196 [01:09<00:22,  2.83it/s]"
          ]
        },
        {
          "output_type": "stream",
          "name": "stdout",
          "text": [
            "131\n",
            "Подорожник Блошный\n"
          ]
        },
        {
          "output_type": "stream",
          "name": "stderr",
          "text": [
            " 77%|███████▋  | 151/196 [01:18<00:31,  1.44it/s]"
          ]
        },
        {
          "output_type": "stream",
          "name": "stdout",
          "text": [
            "150\n",
            "Серпуха Венценосная\n"
          ]
        },
        {
          "output_type": "stream",
          "name": "stderr",
          "text": [
            " 80%|████████  | 157/196 [01:21<00:13,  2.80it/s]"
          ]
        },
        {
          "output_type": "stream",
          "name": "stdout",
          "text": [
            "156\n",
            "Солодка Голая\n"
          ]
        },
        {
          "output_type": "stream",
          "name": "stderr",
          "text": [
            " 81%|████████  | 159/196 [01:23<00:24,  1.50it/s]"
          ]
        },
        {
          "output_type": "stream",
          "name": "stdout",
          "text": [
            "157\n",
            "Софора Японская\n"
          ]
        },
        {
          "output_type": "stream",
          "name": "stderr",
          "text": [
            " 82%|████████▏ | 161/196 [01:23<00:16,  2.12it/s]"
          ]
        },
        {
          "output_type": "stream",
          "name": "stdout",
          "text": [
            "159\n",
            "Стальник Колючий\n"
          ]
        },
        {
          "output_type": "stream",
          "name": "stderr",
          "text": [
            " 87%|████████▋ | 171/196 [01:29<00:12,  2.05it/s]"
          ]
        },
        {
          "output_type": "stream",
          "name": "stdout",
          "text": [
            "169\n",
            "Укроп Пахучий\n",
            "170\n",
            "Фасоль Обы Кновенная\n"
          ]
        },
        {
          "output_type": "stream",
          "name": "stderr",
          "text": [
            " 91%|█████████ | 178/196 [01:34<00:13,  1.32it/s]"
          ]
        },
        {
          "output_type": "stream",
          "name": "stdout",
          "text": [
            "176\n",
            "Цетрария Исландская\n"
          ]
        },
        {
          "output_type": "stream",
          "name": "stderr",
          "text": [
            " 95%|█████████▍| 186/196 [01:41<00:13,  1.33s/it]"
          ]
        },
        {
          "output_type": "stream",
          "name": "stdout",
          "text": [
            "185\n",
            "Шалфей Лекарственный\n"
          ]
        },
        {
          "output_type": "stream",
          "name": "stderr",
          "text": [
            "100%|██████████| 196/196 [01:48<00:00,  1.81it/s]\n"
          ]
        }
      ]
    },
    {
      "cell_type": "code",
      "source": [
        "import pandas as pd\n",
        "pd.set_option('display.max_colwidth', 1500)"
      ],
      "metadata": {
        "id": "8I7sEWt3V_Gr"
      },
      "execution_count": 171,
      "outputs": []
    },
    {
      "cell_type": "code",
      "source": [
        "df = pd.DataFrame(extract_data_result).T.reset_index(drop=True)"
      ],
      "metadata": {
        "id": "wqe28mIGV2hv"
      },
      "execution_count": 104,
      "outputs": []
    },
    {
      "cell_type": "code",
      "source": [
        "df_regions = pd.read_excel('regions.xlsx')"
      ],
      "metadata": {
        "id": "Hfceb8JkTbbr"
      },
      "execution_count": 106,
      "outputs": []
    },
    {
      "cell_type": "code",
      "source": [
        "regions = [i.lower().split(' ')[0][:5] for i in df_regions['Регион']]"
      ],
      "metadata": {
        "id": "gCBkbTmgTvn8"
      },
      "execution_count": 107,
      "outputs": []
    },
    {
      "cell_type": "code",
      "source": [
        "regions[32] = 'красноярс'\n",
        "regions[31] = 'краснодар'"
      ],
      "metadata": {
        "id": "CcEoo3syOeOA"
      },
      "execution_count": 126,
      "outputs": []
    },
    {
      "cell_type": "code",
      "source": [
        "regions_dict = {}\n",
        "for i in range(len(regions)):\n",
        "  if regions[i] not in regions_dict:\n",
        "    regions_dict[regions[i]] = df_regions['Регион'][i]\n",
        "     \n"
      ],
      "metadata": {
        "id": "Gkt9Ox0TXhNc"
      },
      "execution_count": 128,
      "outputs": []
    },
    {
      "cell_type": "code",
      "source": [
        "df['data_are_lower'] = [df.data_are.iloc[i].lower()  for i in range(len(df))]"
      ],
      "metadata": {
        "id": "1tqJS1Z6Yuo6"
      },
      "execution_count": 133,
      "outputs": []
    },
    {
      "cell_type": "code",
      "source": [
        "regions_result = []\n",
        "for i in df['data_are_lower']:\n",
        "  region_list = []\n",
        "  for j in regions_dict:\n",
        "    i_sub = re.sub(' *- *', '', i)\n",
        "    if ' '+j in i_sub:\n",
        "        region_list += [regions_dict[j]]\n",
        "  regions_result += [region_list]"
      ],
      "metadata": {
        "id": "wSkqySIPPz-O"
      },
      "execution_count": 137,
      "outputs": []
    },
    {
      "cell_type": "code",
      "source": [
        "df['regions'] = [', '.join(i) for i in regions_result]"
      ],
      "metadata": {
        "id": "H2OAYAQXeLRT"
      },
      "execution_count": 138,
      "outputs": []
    },
    {
      "cell_type": "code",
      "source": [
        "#почвыыыыы\n",
        "\n",
        "pochvs = \"\"\"арктические\n",
        "тундровые\n",
        "подзолистые\n",
        "дерновые\n",
        "болотные\n",
        "лесные\n",
        "черноземы\n",
        "каштановые\n",
        "луговые\n",
        "коричневые\n",
        "полупустынные\n",
        "пустынные\n",
        "примитивные\n",
        "такыры\n",
        "красноземы\n",
        "желтоземы\n",
        "коричневые\n",
        "черные\n",
        "сероземы\n",
        "красные\n",
        "засоленные\n",
        "аллювиальные\n",
        "высокопоясные\"\"\".split('\\n')\n",
        "\n",
        "pochvs ={i[:5]:i for i in pochvs}"
      ],
      "metadata": {
        "id": "ThG3lYZfhASM"
      },
      "execution_count": 140,
      "outputs": []
    },
    {
      "cell_type": "code",
      "source": [
        "df['data_pochvs_lower'] = [df.data_eco.iloc[i].lower() + df.data_res.iloc[i].lower() for i in range(len(df))]"
      ],
      "metadata": {
        "id": "gpLySKj_j83w"
      },
      "execution_count": 141,
      "outputs": []
    },
    {
      "cell_type": "code",
      "source": [
        "pochvs_result = []\n",
        "for i in df['data_pochvs_lower']:\n",
        "  p_list = []\n",
        "  for j in pochvs:\n",
        "    i_sub = re.sub(' *- *', '', i)\n",
        "    if ' '+j in i_sub:\n",
        "        p_list += [pochvs[j]]\n",
        "  pochvs_result += [p_list]\n",
        "     \n"
      ],
      "metadata": {
        "id": "v35TTizflHsf"
      },
      "execution_count": 142,
      "outputs": []
    },
    {
      "cell_type": "code",
      "source": [
        "df['pochvs'] = [', '.join(i) for i in pochvs_result]"
      ],
      "metadata": {
        "id": "4QPjBOOEnf-p"
      },
      "execution_count": 143,
      "outputs": []
    },
    {
      "cell_type": "code",
      "source": [
        "df[['name', 'data_capt', 'data_are', 'regions', 'pochvs', 'data_res', 'data_him', 'data_farm']].to_csv('data_0.1.0.csv')"
      ],
      "metadata": {
        "id": "srHySy2SebHV"
      },
      "execution_count": 146,
      "outputs": []
    },
    {
      "cell_type": "code",
      "source": [
        "df = df[['name', 'data_capt', 'data_are', 'regions', 'pochvs', 'data_res', 'data_him', 'data_farm']]"
      ],
      "metadata": {
        "id": "F6mccQYxTE57"
      },
      "execution_count": null,
      "outputs": []
    },
    {
      "cell_type": "code",
      "source": [
        "with open('plants_pharma.txt') as f:\n",
        "    plants_pharma = ''.join(f.readlines()).lower()"
      ],
      "metadata": {
        "id": "BK1ZluslvMBo"
      },
      "execution_count": 147,
      "outputs": []
    },
    {
      "cell_type": "code",
      "source": [
        "with open('фармакопея.txt') as f:\n",
        "    pharmacop = ''.join(f.readlines()).lower()"
      ],
      "metadata": {
        "id": "gmwUCpJBxohr"
      },
      "execution_count": 148,
      "outputs": []
    },
    {
      "cell_type": "code",
      "source": [
        "pharma_all = pharmacop + plants_pharma"
      ],
      "metadata": {
        "id": "qPzhK_D1xYPE"
      },
      "execution_count": 149,
      "outputs": []
    },
    {
      "cell_type": "code",
      "source": [
        "df['pharmacop'] = [i.split(' ')[0].lower() in pharma_all for i in df.name.tolist()]"
      ],
      "metadata": {
        "id": "8kkeP0cUTOVC"
      },
      "execution_count": 156,
      "outputs": []
    },
    {
      "cell_type": "code",
      "source": [
        "df_rb = pd.read_excel(\"КК.xlsx\")"
      ],
      "metadata": {
        "id": "mAWlAJFBUFWt"
      },
      "execution_count": 157,
      "outputs": []
    },
    {
      "cell_type": "code",
      "source": [
        "redbook_all = ' '.join(df_rb['Русское название'].tolist())"
      ],
      "metadata": {
        "id": "iJjDj_dyUFv1"
      },
      "execution_count": 162,
      "outputs": []
    },
    {
      "cell_type": "code",
      "source": [
        "df['redbook'] = [i.split(' ')[0].lower() in redbook_all for i in df.name.tolist()]"
      ],
      "metadata": {
        "id": "NCSDrLtZUdbw"
      },
      "execution_count": 163,
      "outputs": []
    },
    {
      "cell_type": "code",
      "source": [
        "df[['name', 'data_capt', 'data_are', 'regions', 'pochvs', 'pharmacop', 'redbook', 'data_res', 'data_him', 'data_farm']].to_csv('data_0.1.1.csv')"
      ],
      "metadata": {
        "id": "emupd68FU9Xd"
      },
      "execution_count": 165,
      "outputs": []
    },
    {
      "cell_type": "code",
      "source": [
        "import numpy as np"
      ],
      "metadata": {
        "id": "U0GniYEif3i_"
      },
      "execution_count": 184,
      "outputs": []
    },
    {
      "cell_type": "code",
      "source": [
        "list_need = [sorted(re.findall(r'\\d+ *т', i)) for i in df['data_res'].tolist()]\n",
        "need_result = []\n",
        "for i in list_need:\n",
        "  try:\n",
        "    need_result += [i[len(i)//2][:-2]+ ' т.']\n",
        "    if need_result[-1] == '0 т.':\n",
        "      need_result[-1] = np.nan\n",
        "  except:\n",
        "    need_result += [np.nan]\n",
        "\n",
        "df['req'] = need_result"
      ],
      "metadata": {
        "id": "XD7IrbjgcB7H"
      },
      "execution_count": 198,
      "outputs": []
    },
    {
      "cell_type": "code",
      "source": [
        "df[['name', 'data_capt', 'data_are', 'regions', 'pochvs', 'pharmacop', 'redbook', 'req', 'data_res', 'data_him', 'data_farm']].to_csv('data_0.1.2.csv')"
      ],
      "metadata": {
        "id": "9-caSakdfsSC"
      },
      "execution_count": 199,
      "outputs": []
    },
    {
      "cell_type": "code",
      "source": [
        "res_sezon = {}\n",
        "n = 0\n",
        "for j in df['data_res'].tolist():\n",
        "  res_sezon[n] = []\n",
        "  for i in ['январ' 'феврал', 'март', 'апрел', 'май', 'июн', 'июл', 'август', 'сентябр', 'октябр', 'ноябр', 'декабр']:\n",
        "    if i in j.lower():\n",
        "      res_sezon[n] += [i]\n",
        "  n+=1"
      ],
      "metadata": {
        "id": "bsBHfyNCkixp"
      },
      "execution_count": 208,
      "outputs": []
    },
    {
      "cell_type": "code",
      "source": [
        "se_dict = {'январ':'январь', 'феврал':'феврал', 'март':'март', 'апрел':'апрель', 'май':'май', 'июн':'июнь', 'июл':'июль', 'август':'август', 'сентябр':'сентябрь', 'октябр':'октябрь', 'ноябр':'ноябрь', 'декабр':'декабрь'}"
      ],
      "metadata": {
        "id": "AmNr4hA7oAbT"
      },
      "execution_count": 211,
      "outputs": []
    },
    {
      "cell_type": "code",
      "source": [
        "seasons_list_start = []\n",
        "seasons_list_end = []\n",
        "for i in res_sezon:\n",
        "  if len(res_sezon[i])==0:\n",
        "    seasons_list_start += [np.nan]\n",
        "    seasons_list_end += [np.nan]\n",
        "  elif res_sezon[i] in ['сентябр', 'октябр'] or res_sezon[i] in ['август', 'сентябр']:\n",
        "    seasons_list_start += ['Весна']\n",
        "    seasons_list_end += ['Август-октябрь']\n",
        "  elif res_sezon[i] in ['июн', 'июл']:\n",
        "    seasons_list_start += ['Июнь-июль']\n",
        "    seasons_list_end += ['Осень']\n",
        "  else:\n",
        "    seasons_list_start += [se_dict[res_sezon[i][0]]]\n",
        "    seasons_list_end += [se_dict[res_sezon[i][-1]]]\n",
        "\n"
      ],
      "metadata": {
        "id": "ovWRKT3TjvkN"
      },
      "execution_count": 216,
      "outputs": []
    },
    {
      "cell_type": "code",
      "source": [
        "df['sowing'] = seasons_list_start\n",
        "df['collect'] = seasons_list_end\n",
        "\n"
      ],
      "metadata": {
        "id": "2HEbDe7xjvm5"
      },
      "execution_count": 221,
      "outputs": []
    },
    {
      "cell_type": "code",
      "source": [
        "df[['name', 'data_capt', 'data_are', 'regions', 'pochvs', 'pharmacop', 'redbook', 'req', 'sowing', 'collect', 'data_res', 'data_him', 'data_farm']].to_csv('data_0.1.3.csv')"
      ],
      "metadata": {
        "id": "dIpsw5pRp1ba"
      },
      "execution_count": 219,
      "outputs": []
    },
    {
      "cell_type": "code",
      "source": [
        "him_sostav = []\n",
        "for i in df['data_him'].tolist():\n",
        "  i_sub = re.sub(' *- *', '', i)\n",
        "  i_sub = re.sub(' *Х *и *м *и *ч *е *с *к *и *й * *с *о *с *т *а *в *\\.* *', '', i_sub)\n",
        "  him_sostav += [i_sub.split('.')[0]]\n",
        "  df['him_sostav'] = him_sostav"
      ],
      "metadata": {
        "id": "flxghFONz3ss"
      },
      "execution_count": 227,
      "outputs": []
    },
    {
      "cell_type": "code",
      "source": [
        "med_list = []\n",
        "for i in df['data_farm'].tolist():\n",
        "  i_sub = re.sub(' *- *', '', i)\n",
        "  i_sub = re.findall('П *р *и *м *е *н *е *н *и *е *в* *м *е *д *и *ц *и *н *е *\\.* * [^\\t]*', i_sub)[0]\n",
        "  i_sub = re.sub('П *р *и *м *е *н *е *н *и *е *в* *м *е *д *и *ц *и *н *е *\\. *', '', i_sub)\n",
        "  med_list += ['. '.join(i_sub.split('.')[:2])]\n",
        "df['med_list'] = med_list"
      ],
      "metadata": {
        "id": "ZQ5LEJtD1UUh"
      },
      "execution_count": 236,
      "outputs": []
    },
    {
      "cell_type": "code",
      "source": [
        "areal_list = []\n",
        "for i in df['data_are'].tolist():\n",
        "  i_sub = re.sub(' *- *', '', i)\n",
        "  i_sub = re.sub(' *А *р *е *а *л *\\.* *', '', i_sub)\n",
        "  areal_list += ['. '.join(i_sub.split('.')[:2])]\n",
        "df['areal'] = areal_list"
      ],
      "metadata": {
        "id": "l9Jp2C_C33cp"
      },
      "execution_count": 240,
      "outputs": []
    },
    {
      "cell_type": "markdown",
      "source": [],
      "metadata": {
        "id": "ZxpAqB-RxEsY"
      }
    },
    {
      "cell_type": "code",
      "source": [
        "df[['name', 'areal', 'regions', 'pochvs', 'pharmacop', 'redbook', 'req', 'sowing', 'collect', 'him_sostav', 'med_list']].to_csv('data_1.0.2.csv')"
      ],
      "metadata": {
        "id": "z2_TcBfA3xb9"
      },
      "execution_count": 244,
      "outputs": []
    },
    {
      "cell_type": "code",
      "source": [],
      "metadata": {
        "id": "rq6uh00Y4l93"
      },
      "execution_count": null,
      "outputs": []
    }
  ]
}