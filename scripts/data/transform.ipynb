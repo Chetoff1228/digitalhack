{
 "cells": [
  {
   "cell_type": "code",
   "execution_count": 1,
   "metadata": {},
   "outputs": [],
   "source": [
    "import pandas as pd\n",
    "import json"
   ]
  },
  {
   "cell_type": "code",
   "execution_count": 2,
   "metadata": {},
   "outputs": [],
   "source": [
    "data = pd.read_csv(r'D:\\repos\\digitalhack\\scripts\\data\\plantsdata\\data_0.0.2.csv', index_col=0)"
   ]
  },
  {
   "cell_type": "code",
   "execution_count": 4,
   "metadata": {},
   "outputs": [],
   "source": [
    "# Testing the performance of sity\n",
    "# Define a function to truncate text\n",
    "def truncate_text(text, limit):\n",
    "    if len(text) > limit:\n",
    "        return text[:limit] + '...'\n",
    "    else:\n",
    "        return text\n",
    "\n",
    "# # Apply the function to the 'Text' column\n",
    "# data['data_capt'] = data['data_capt'].apply(lambda x: truncate_text(x, 100))\n",
    "# data['data_are'] = data['data_are'].apply(lambda x: truncate_text(x, 100))\n",
    "# data['data_eco'] = data['data_eco'].apply(lambda x: truncate_text(x, 100))\n",
    "# data['data_res'] = data['data_res'].apply(lambda x: truncate_text(x, 100))\n",
    "# data['data_him'] = data['data_him'].apply(lambda x: truncate_text(x, 100))\n",
    "# data['data_farm'] = data['data_farm'].apply(lambda x: truncate_text(x, 100))\n",
    "\n",
    "data.to_csv('temp.csv', sep=',')\n",
    "json_data = data.to_json(orient='records', force_ascii=False)\n",
    "temp = json.loads(json_data)\n",
    "\n",
    "# Save the JSON data to a file\n",
    "with open('data.json', 'w', encoding='utf-8') as file:\n",
    "    json.dump(temp, file, ensure_ascii=False)"
   ]
  }
 ],
 "metadata": {
  "kernelspec": {
   "display_name": "digitalhack-TGUz757E-py3.8",
   "language": "python",
   "name": "python3"
  },
  "language_info": {
   "codemirror_mode": {
    "name": "ipython",
    "version": 3
   },
   "file_extension": ".py",
   "mimetype": "text/x-python",
   "name": "python",
   "nbconvert_exporter": "python",
   "pygments_lexer": "ipython3",
   "version": "3.8.10"
  },
  "orig_nbformat": 4
 },
 "nbformat": 4,
 "nbformat_minor": 2
}
