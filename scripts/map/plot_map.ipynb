{
 "cells": [
  {
   "cell_type": "code",
   "execution_count": 8,
   "metadata": {},
   "outputs": [
    {
     "name": "stdout",
     "output_type": "stream",
     "text": [
      "Folium installed and imported!\n"
     ]
    }
   ],
   "source": [
    "import pandas as pd\n",
    "import folium\n",
    "\n",
    "# Import folium MarkerCluster plugin\n",
    "from folium.plugins import MarkerCluster\n",
    "# Import folium MousePosition plugin\n",
    "from folium.plugins import MousePosition\n",
    "# Import folium DivIcon plugin\n",
    "from folium.features import DivIcon\n",
    "\n",
    "print('Folium installed and imported!')"
   ]
  },
  {
   "cell_type": "code",
   "execution_count": 9,
   "metadata": {},
   "outputs": [],
   "source": [
    "regions = pd.read_excel(r'D:\\repos\\digitalhack\\scripts\\data\\plantsdata\\regions.xlsx')"
   ]
  },
  {
   "cell_type": "code",
   "execution_count": 10,
   "metadata": {},
   "outputs": [],
   "source": [
    "data = pd.read_csv(r'D:\\repos\\digitalhack\\scripts\\data\\plantsdata\\data_0.1.1.csv')\n",
    "data = data.fillna('')\n",
    "data['regions_split'] = [i.split(', ') for i in data['regions'].tolist()]"
   ]
  },
  {
   "cell_type": "code",
   "execution_count": 13,
   "metadata": {},
   "outputs": [],
   "source": [
    "region_dict = {}\n",
    "for i in data['regions_split'].index:\n",
    "    for j in data['regions_split'].loc[i]:\n",
    "        if j not in region_dict:\n",
    "            region_dict[j] = [data['name'].iloc[i]]\n",
    "        else:\n",
    "            region_dict[j].extend([data['name'].iloc[i]])"
   ]
  },
  {
   "cell_type": "code",
   "execution_count": 14,
   "metadata": {},
   "outputs": [],
   "source": [
    "map = folium.Map(location=[55.751244, 37.618423], zoom_start=5)\n",
    "\n",
    "for index, row in regions.iterrows():\n",
    "    lat = row['Широта']\n",
    "    lon = row['Долгота']\n",
    "    region = row['Регион']\n",
    "    marker = folium.Marker([lat, lon], popup=region)\n",
    "    marker.add_to(map)\n",
    "    try:\n",
    "        # Create a custom HTML annotation with CSS styling\n",
    "        annotation_html = f\"\"\"\n",
    "        <div style=\"background-color: #F9F9F9;\n",
    "                    border: 1px solid #CCCCCC;\n",
    "                    border-radius: 5px;\n",
    "                    padding: 10px;\n",
    "                    font-family: Arial, sans-serif;\n",
    "                    font-size: 14px;\n",
    "                    color: #333333;\n",
    "                    max-width: 250px;\">\n",
    "            <b>Plant:</b> {region_dict[row['Регион']]}<br>\n",
    "            <b>Region:</b> {row['Регион']}\n",
    "        </div>\n",
    "        \"\"\"\n",
    "        \n",
    "        # Create a popup annotation with the custom HTML and add it to the marker\n",
    "        popup = folium.map.Popup(annotation_html, max_width=300)\n",
    "        marker.add_child(popup)\n",
    "\n",
    "    except:\n",
    "        continue\n",
    "\n",
    "map.save('map.html')\n"
   ]
  }
 ],
 "metadata": {
  "kernelspec": {
   "display_name": "digitalhack-TGUz757E-py3.8",
   "language": "python",
   "name": "python3"
  },
  "language_info": {
   "codemirror_mode": {
    "name": "ipython",
    "version": 3
   },
   "file_extension": ".py",
   "mimetype": "text/x-python",
   "name": "python",
   "nbconvert_exporter": "python",
   "pygments_lexer": "ipython3",
   "version": "3.8.10"
  },
  "orig_nbformat": 4
 },
 "nbformat": 4,
 "nbformat_minor": 2
}
